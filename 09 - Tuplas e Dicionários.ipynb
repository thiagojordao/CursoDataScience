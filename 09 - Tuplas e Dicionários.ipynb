{
 "cells": [
  {
   "cell_type": "markdown",
   "metadata": {},
   "source": [
    "# Tuplas"
   ]
  },
  {
   "cell_type": "code",
   "execution_count": 2,
   "metadata": {},
   "outputs": [],
   "source": [
    "#Lista utiliza colchetes []\n",
    "#Tuplas utilizam parênteses e não podem ter os elementos alterados\n",
    "\n",
    "rio_de_janeiro = (2410,1227)\n",
    "salvador = (5816,3039)\n",
    "recife = (314,5252)"
   ]
  },
  {
   "cell_type": "code",
   "execution_count": 3,
   "metadata": {},
   "outputs": [
    {
     "name": "stdout",
     "output_type": "stream",
     "text": [
      "(2410, 1227)\n",
      "(5816, 3039)\n",
      "(314, 5252)\n"
     ]
    }
   ],
   "source": [
    "print(rio_de_janeiro)\n",
    "print(salvador)\n",
    "print(recife)"
   ]
  },
  {
   "cell_type": "code",
   "execution_count": 4,
   "metadata": {},
   "outputs": [
    {
     "data": {
      "text/plain": [
       "tuple"
      ]
     },
     "execution_count": 4,
     "metadata": {},
     "output_type": "execute_result"
    }
   ],
   "source": [
    "type(salvador)"
   ]
  },
  {
   "cell_type": "code",
   "execution_count": 7,
   "metadata": {},
   "outputs": [
    {
     "name": "stdout",
     "output_type": "stream",
     "text": [
      "1227\n"
     ]
    },
    {
     "data": {
      "text/plain": [
       "2410"
      ]
     },
     "execution_count": 7,
     "metadata": {},
     "output_type": "execute_result"
    }
   ],
   "source": [
    "print(rio_de_janeiro[1])\n",
    "rio_de_janeiro[0]"
   ]
  },
  {
   "cell_type": "code",
   "execution_count": 8,
   "metadata": {},
   "outputs": [
    {
     "name": "stdout",
     "output_type": "stream",
     "text": [
      "As dimensões são 52 x 40 x 100\n",
      "As dimensões são 52 x 40 x 100\n"
     ]
    }
   ],
   "source": [
    "#Descompactando Tuplas\n",
    "#A tuplas podem ser utilizadas sem parênteses. É frequente porém não recomendado\n",
    "\n",
    "#O Format é um metodo do tipo STRING\n",
    "\n",
    "dimensoes = 52, 40, 100\n",
    "largura, altura, profundidade = dimensoes\n",
    "\n",
    "print('As dimensões são {} x {} x {}'.format(largura,altura,profundidade))\n",
    "print('As dimensões são',largura,'x',altura,'x',profundidade)"
   ]
  },
  {
   "cell_type": "code",
   "execution_count": 9,
   "metadata": {},
   "outputs": [
    {
     "name": "stdout",
     "output_type": "stream",
     "text": [
      "A latitude de Salvador é 5816\n"
     ]
    }
   ],
   "source": [
    "print('A latitude de Salvador é',salvador[0])"
   ]
  },
  {
   "cell_type": "code",
   "execution_count": 10,
   "metadata": {},
   "outputs": [
    {
     "ename": "TypeError",
     "evalue": "'tuple' object does not support item assignment",
     "output_type": "error",
     "traceback": [
      "\u001b[1;31m---------------------------------------------------------------------------\u001b[0m",
      "\u001b[1;31mTypeError\u001b[0m                                 Traceback (most recent call last)",
      "\u001b[1;32m<ipython-input-10-4fba86eea0d4>\u001b[0m in \u001b[0;36m<module>\u001b[1;34m()\u001b[0m\n\u001b[0;32m      1\u001b[0m \u001b[1;31m#Imutabilidade de uma tupla\u001b[0m\u001b[1;33m\u001b[0m\u001b[1;33m\u001b[0m\u001b[0m\n\u001b[0;32m      2\u001b[0m \u001b[1;33m\u001b[0m\u001b[0m\n\u001b[1;32m----> 3\u001b[1;33m \u001b[0msalvador\u001b[0m\u001b[1;33m[\u001b[0m\u001b[1;36m0\u001b[0m\u001b[1;33m]\u001b[0m \u001b[1;33m=\u001b[0m \u001b[1;36m2222\u001b[0m\u001b[1;33m\u001b[0m\u001b[0m\n\u001b[0m",
      "\u001b[1;31mTypeError\u001b[0m: 'tuple' object does not support item assignment"
     ]
    }
   ],
   "source": [
    "#Imutabilidade de uma tupla\n",
    "\n",
    "salvador[0] = 2222"
   ]
  },
  {
   "cell_type": "code",
   "execution_count": 11,
   "metadata": {},
   "outputs": [],
   "source": [
    "del salvador"
   ]
  },
  {
   "cell_type": "code",
   "execution_count": 14,
   "metadata": {},
   "outputs": [
    {
     "ename": "NameError",
     "evalue": "name 'salvador' is not defined",
     "output_type": "error",
     "traceback": [
      "\u001b[1;31m---------------------------------------------------------------------------\u001b[0m",
      "\u001b[1;31mNameError\u001b[0m                                 Traceback (most recent call last)",
      "\u001b[1;32m<ipython-input-14-140ba242e13c>\u001b[0m in \u001b[0;36m<module>\u001b[1;34m()\u001b[0m\n\u001b[1;32m----> 1\u001b[1;33m \u001b[0msalvador\u001b[0m\u001b[1;33m[\u001b[0m\u001b[1;36m0\u001b[0m\u001b[1;33m]\u001b[0m\u001b[1;33m\u001b[0m\u001b[0m\n\u001b[0m",
      "\u001b[1;31mNameError\u001b[0m: name 'salvador' is not defined"
     ]
    }
   ],
   "source": [
    "salvador[0]"
   ]
  },
  {
   "cell_type": "markdown",
   "metadata": {},
   "source": [
    "# Argumentos Padrão"
   ]
  },
  {
   "cell_type": "code",
   "execution_count": 20,
   "metadata": {},
   "outputs": [],
   "source": [
    "def box(largura,altura,caracter):\n",
    "    print(caracter * largura) #Imprimirá o caracter multiplicado pela largura\n",
    "    \n",
    "    for i in range(altura - 2):\n",
    "        print(caracter + ' ' * (largura - 2) + caracter)\n",
    "    \n",
    "    print(caracter * largura)"
   ]
  },
  {
   "cell_type": "code",
   "execution_count": 23,
   "metadata": {},
   "outputs": [
    {
     "name": "stdout",
     "output_type": "stream",
     "text": [
      "####\n",
      "#  #\n",
      "#  #\n",
      "####\n"
     ]
    }
   ],
   "source": [
    "box(4,4,'#')"
   ]
  },
  {
   "cell_type": "code",
   "execution_count": 24,
   "metadata": {},
   "outputs": [],
   "source": [
    "def box(largura,altura,caracter = \"#\"):\n",
    "    print(caracter * largura) #Imprimirá o caracter multiplicado pela largura\n",
    "    \n",
    "    for i in range(altura - 2):\n",
    "        print(caracter + ' ' * (largura - 2) + caracter)\n",
    "    \n",
    "    print(caracter * largura)"
   ]
  },
  {
   "cell_type": "code",
   "execution_count": 25,
   "metadata": {},
   "outputs": [
    {
     "name": "stdout",
     "output_type": "stream",
     "text": [
      "#########################\n",
      "#                       #\n",
      "#                       #\n",
      "#                       #\n",
      "#########################\n"
     ]
    }
   ],
   "source": [
    "box(25,5)"
   ]
  },
  {
   "cell_type": "markdown",
   "metadata": {},
   "source": [
    "# Dicionários"
   ]
  },
  {
   "cell_type": "markdown",
   "metadata": {},
   "source": [
    "A diferença mais marcante entre listas e dicionários é que mesmo ambas sendo uma coleção de objetos mutáveis, as listas organizam-se por índices posicionais, enquanto os dicionários organizam-se por padrão CHAVE VALOR, Lembra-se do Map Reduce?"
   ]
  },
  {
   "cell_type": "code",
   "execution_count": 27,
   "metadata": {},
   "outputs": [],
   "source": [
    "#Tuplas são criadas com parêntesis, listas são criadas com colchetes, dicionários são criados com chaves\n",
    "\n",
    "Grunt = {'categoria':'guerreiro', 'força':110, 'experiencia':50, 'vida':100, 'cura':70}\n",
    "Shallur = {'categoria':'mago', 'força':50, 'experiencia':120, 'vida':60, 'cura':100}\n",
    "Eldor = {'categoria':'elfo', 'força':70, 'experiencia':80, 'vida':120, 'cura':100}"
   ]
  },
  {
   "cell_type": "code",
   "execution_count": 28,
   "metadata": {},
   "outputs": [
    {
     "name": "stdout",
     "output_type": "stream",
     "text": [
      "{'categoria': 'guerreiro', 'força': 110, 'experiencia': 50, 'vida': 100, 'cura': 70}\n",
      "{'categoria': 'mago', 'força': 50, 'experiencia': 120, 'vida': 60, 'cura': 100}\n",
      "{'categoria': 'elfo', 'força': 70, 'experiencia': 80, 'vida': 120, 'cura': 100}\n"
     ]
    }
   ],
   "source": [
    "print(Grunt)\n",
    "print(Shallur)\n",
    "print(Eldor)"
   ]
  },
  {
   "cell_type": "code",
   "execution_count": 30,
   "metadata": {},
   "outputs": [
    {
     "name": "stdout",
     "output_type": "stream",
     "text": [
      "Força do Grunt 110\n",
      "Experiencia do Eldor 80\n"
     ]
    }
   ],
   "source": [
    "#Indexando por chaves\n",
    "\n",
    "print('Força do Grunt', Grunt['força'])\n",
    "print('Experiencia do Eldor', Eldor['experiencia'])"
   ]
  },
  {
   "cell_type": "code",
   "execution_count": 31,
   "metadata": {},
   "outputs": [],
   "source": [
    "#Criando um dicionário vazio\n",
    "\n",
    "kallipha = {}"
   ]
  },
  {
   "cell_type": "code",
   "execution_count": 32,
   "metadata": {},
   "outputs": [],
   "source": [
    "#Adcionando elementos ao dicionário\n",
    "\n",
    "kallipha['categoria'] = 'elfo'\n",
    "kallipha['força'] = 75\n",
    "kallipha['experiencia'] = 73\n",
    "kallipha['vida'] = 124\n",
    "kallipha['cura'] = 100"
   ]
  },
  {
   "cell_type": "code",
   "execution_count": 34,
   "metadata": {},
   "outputs": [
    {
     "name": "stdout",
     "output_type": "stream",
     "text": [
      "Grunt {'categoria': 'guerreiro', 'força': 110, 'experiencia': 50, 'vida': 100, 'cura': 70}\n",
      "Shallur {'categoria': 'mago', 'força': 50, 'experiencia': 120, 'vida': 60, 'cura': 100}\n",
      "Eldor {'categoria': 'elfo', 'força': 70, 'experiencia': 80, 'vida': 120, 'cura': 100}\n",
      "kallipha {'categoria': 'elfo', 'força': 75, 'experiencia': 73, 'vida': 124, 'cura': 100}\n"
     ]
    }
   ],
   "source": [
    "print('Grunt',Grunt)\n",
    "print('Shallur',Shallur)\n",
    "print('Eldor',Eldor)\n",
    "print('kallipha',kallipha)"
   ]
  },
  {
   "cell_type": "code",
   "execution_count": 36,
   "metadata": {},
   "outputs": [],
   "source": [
    "#Dicionarios aninhados\n",
    "#Adicionando um elemento lista ao dicionário\n",
    "\n",
    "Grunt['armas'] = ['escudo','espada']"
   ]
  },
  {
   "cell_type": "code",
   "execution_count": 37,
   "metadata": {},
   "outputs": [
    {
     "name": "stdout",
     "output_type": "stream",
     "text": [
      "{'categoria': 'guerreiro', 'força': 110, 'experiencia': 50, 'vida': 100, 'cura': 70, 'armas': ['escudo', 'espada']}\n"
     ]
    }
   ],
   "source": [
    "print(Grunt)"
   ]
  },
  {
   "cell_type": "code",
   "execution_count": 39,
   "metadata": {},
   "outputs": [
    {
     "name": "stdout",
     "output_type": "stream",
     "text": [
      "escudo\n"
     ]
    }
   ],
   "source": [
    "print(Grunt['armas'][0])"
   ]
  },
  {
   "cell_type": "code",
   "execution_count": 40,
   "metadata": {},
   "outputs": [],
   "source": [
    "#Adicionando um elemento na lista do dicionário\n",
    "Grunt['armas'].append('elmo')"
   ]
  },
  {
   "cell_type": "code",
   "execution_count": 41,
   "metadata": {},
   "outputs": [
    {
     "name": "stdout",
     "output_type": "stream",
     "text": [
      "{'categoria': 'guerreiro', 'força': 110, 'experiencia': 50, 'vida': 100, 'cura': 70, 'armas': ['escudo', 'espada', 'elmo']}\n"
     ]
    }
   ],
   "source": [
    "print(Grunt)"
   ]
  },
  {
   "cell_type": "code",
   "execution_count": 42,
   "metadata": {},
   "outputs": [
    {
     "data": {
      "text/plain": [
       "dict"
      ]
     },
     "execution_count": 42,
     "metadata": {},
     "output_type": "execute_result"
    }
   ],
   "source": [
    "#Verificando o tipo\n",
    "type(Grunt)"
   ]
  },
  {
   "cell_type": "markdown",
   "metadata": {},
   "source": [
    "# Métodos"
   ]
  },
  {
   "cell_type": "code",
   "execution_count": 43,
   "metadata": {},
   "outputs": [],
   "source": [
    "#A hierarquia de impressão é: ITEM -> KEY -> VALUES"
   ]
  },
  {
   "cell_type": "code",
   "execution_count": 48,
   "metadata": {},
   "outputs": [
    {
     "name": "stdout",
     "output_type": "stream",
     "text": [
      "[('categoria', 'guerreiro'), ('força', 110), ('experiencia', 50), ('vida', 100), ('cura', 70), ('armas', ['escudo', 'espada', 'elmo'])]\n"
     ]
    }
   ],
   "source": [
    "#Imprime o ITEM, ou seja, o par CHAVE VALOR\n",
    "print(list(Grunt.items()))"
   ]
  },
  {
   "cell_type": "code",
   "execution_count": 46,
   "metadata": {},
   "outputs": [
    {
     "data": {
      "text/plain": [
       "dict_items([('categoria', 'elfo'), ('força', 75), ('experiencia', 73), ('vida', 124), ('cura', 100)])"
      ]
     },
     "execution_count": 46,
     "metadata": {},
     "output_type": "execute_result"
    }
   ],
   "source": [
    "kallipha.items()"
   ]
  },
  {
   "cell_type": "code",
   "execution_count": 49,
   "metadata": {},
   "outputs": [
    {
     "name": "stdout",
     "output_type": "stream",
     "text": [
      "dict_keys(['categoria', 'força', 'experiencia', 'vida', 'cura', 'armas'])\n"
     ]
    }
   ],
   "source": [
    "#Imprime somente as chaves\n",
    "print(Grunt.keys())"
   ]
  },
  {
   "cell_type": "code",
   "execution_count": 50,
   "metadata": {},
   "outputs": [
    {
     "name": "stdout",
     "output_type": "stream",
     "text": [
      "['guerreiro', 110, 50, 100, 70, ['escudo', 'espada', 'elmo']]\n"
     ]
    }
   ],
   "source": [
    "#Imprime somente os valores\n",
    "print(list(Grunt.values())) #list transforma em uma lista e pode ser indexado"
   ]
  },
  {
   "cell_type": "code",
   "execution_count": 52,
   "metadata": {},
   "outputs": [
    {
     "name": "stdout",
     "output_type": "stream",
     "text": [
      "Chave: categoria\n",
      "Chave: força\n",
      "Chave: experiencia\n",
      "Chave: vida\n",
      "Chave: cura\n",
      "Chave: armas\n"
     ]
    }
   ],
   "source": [
    "#A utilização do FOR para impressão traz somente as chaves\n",
    "\n",
    "for var in Grunt:\n",
    "    print('Chave:',var)"
   ]
  },
  {
   "cell_type": "code",
   "execution_count": 54,
   "metadata": {},
   "outputs": [
    {
     "name": "stdout",
     "output_type": "stream",
     "text": [
      "Chave: categoria - mapeado para: guerreiro\n",
      "Chave: força - mapeado para: 110\n",
      "Chave: experiencia - mapeado para: 50\n",
      "Chave: vida - mapeado para: 100\n",
      "Chave: cura - mapeado para: 70\n",
      "Chave: armas - mapeado para: ['escudo', 'espada', 'elmo']\n"
     ]
    }
   ],
   "source": [
    "#Imprime o item, ou seja, CHAVE VALOR\n",
    "\n",
    "for (chave,valor) in Grunt.items():\n",
    "    print('Chave:',chave,'- mapeado para:',valor)"
   ]
  },
  {
   "cell_type": "code",
   "execution_count": 56,
   "metadata": {},
   "outputs": [
    {
     "name": "stdout",
     "output_type": "stream",
     "text": [
      "Chave:  categoria - mapeado para: guerreiro\n",
      "Chave:  força - mapeado para: 110\n",
      "Chave:  experiencia - mapeado para: 50\n",
      "Chave:  vida - mapeado para: 100\n",
      "Chave:  cura - mapeado para: 70\n",
      "Chave:  armas - mapeado para: ['escudo', 'espada', 'elmo']\n"
     ]
    }
   ],
   "source": [
    "#Impressão através do índice var\n",
    "\n",
    "for var in Grunt:\n",
    "    print('Chave: ',var, '- mapeado para:', Grunt[var])"
   ]
  },
  {
   "cell_type": "code",
   "execution_count": 59,
   "metadata": {},
   "outputs": [
    {
     "name": "stdout",
     "output_type": "stream",
     "text": [
      "True\n",
      "False\n",
      "312\n"
     ]
    }
   ],
   "source": [
    "#Utilizando o operador IN\n",
    "\n",
    "inventario = {'maca':430, 'bananas':312, 'laranja':525, 'pera':217}\n",
    "\n",
    "print('maca' in inventario) #Retorna True\n",
    "print('cereja' in inventario) #Retorna False\n",
    "\n",
    "if 'bananas' in inventario:\n",
    "    print(inventario['bananas'])\n",
    "else:\n",
    "    print('Não temos bananas')"
   ]
  },
  {
   "cell_type": "code",
   "execution_count": 60,
   "metadata": {},
   "outputs": [
    {
     "name": "stdout",
     "output_type": "stream",
     "text": [
      "None\n"
     ]
    }
   ],
   "source": [
    "#metodo GET\n",
    "\n",
    "print(inventario.get('apples'))"
   ]
  },
  {
   "cell_type": "code",
   "execution_count": 62,
   "metadata": {},
   "outputs": [
    {
     "ename": "KeyError",
     "evalue": "'melancia'",
     "output_type": "error",
     "traceback": [
      "\u001b[1;31m---------------------------------------------------------------------------\u001b[0m",
      "\u001b[1;31mKeyError\u001b[0m                                  Traceback (most recent call last)",
      "\u001b[1;32m<ipython-input-62-0881a9c4d334>\u001b[0m in \u001b[0;36m<module>\u001b[1;34m()\u001b[0m\n\u001b[1;32m----> 1\u001b[1;33m \u001b[0mprint\u001b[0m\u001b[1;33m(\u001b[0m\u001b[0minventario\u001b[0m\u001b[1;33m[\u001b[0m\u001b[1;34m'melancia'\u001b[0m\u001b[1;33m]\u001b[0m\u001b[1;33m)\u001b[0m\u001b[1;33m\u001b[0m\u001b[0m\n\u001b[0m",
      "\u001b[1;31mKeyError\u001b[0m: 'melancia'"
     ]
    }
   ],
   "source": [
    "print(inventario['melancia'])"
   ]
  },
  {
   "cell_type": "code",
   "execution_count": 63,
   "metadata": {},
   "outputs": [
    {
     "name": "stdout",
     "output_type": "stream",
     "text": [
      "None\n"
     ]
    }
   ],
   "source": [
    "#Podemos tratar o erro facilmente utilizando GET em vez de indexação\n",
    "#O método GET já vem com o tratamento de erro\n",
    "\n",
    "print(inventario.get('melancia'))"
   ]
  },
  {
   "cell_type": "code",
   "execution_count": 67,
   "metadata": {},
   "outputs": [
    {
     "name": "stdout",
     "output_type": "stream",
     "text": [
      "Não possuímos melancia\n"
     ]
    }
   ],
   "source": [
    "#O método ainda permite um retorno padrão\n",
    "\n",
    "print(inventario.get('melancia','Não possuímos melancia'))"
   ]
  },
  {
   "cell_type": "code",
   "execution_count": 68,
   "metadata": {},
   "outputs": [],
   "source": [
    "#O método copy permite copiar todo um dicionário para outra variável, SEM referenciar o mesmo objeto\n",
    "#inventario = {'maca':430, 'bananas':312, 'laranja':525, 'pera':217}\n",
    "\n",
    "mercado = inventario"
   ]
  },
  {
   "cell_type": "code",
   "execution_count": 70,
   "metadata": {},
   "outputs": [],
   "source": [
    "#Estamos alterando apenas inventário\n",
    "\n",
    "inventario['melancia'] = 10"
   ]
  },
  {
   "cell_type": "code",
   "execution_count": 71,
   "metadata": {},
   "outputs": [
    {
     "name": "stdout",
     "output_type": "stream",
     "text": [
      "{'maca': 430, 'bananas': 312, 'laranja': 525, 'pera': 217, 'melancia': 10}\n"
     ]
    }
   ],
   "source": [
    "#Ao imprimir mercado, vemos que a alteração também foi feita, pois as variáveis referem-se ao mesmo objeto\n",
    "\n",
    "print(mercado)"
   ]
  },
  {
   "cell_type": "code",
   "execution_count": 72,
   "metadata": {},
   "outputs": [
    {
     "name": "stdout",
     "output_type": "stream",
     "text": [
      "{'maca': 430, 'bananas': 312, 'laranja': 525, 'pera': 217, 'melancia': 10}\n"
     ]
    }
   ],
   "source": [
    "print(inventario)"
   ]
  },
  {
   "cell_type": "code",
   "execution_count": 73,
   "metadata": {},
   "outputs": [],
   "source": [
    "#Utilizamos o copy\n",
    "\n",
    "quitanda = inventario.copy()"
   ]
  },
  {
   "cell_type": "code",
   "execution_count": 74,
   "metadata": {},
   "outputs": [],
   "source": [
    "#Removento um item\n",
    "\n",
    "del inventario['melancia']"
   ]
  },
  {
   "cell_type": "code",
   "execution_count": 75,
   "metadata": {},
   "outputs": [
    {
     "name": "stdout",
     "output_type": "stream",
     "text": [
      "{'maca': 430, 'bananas': 312, 'laranja': 525, 'pera': 217}\n",
      "{'maca': 430, 'bananas': 312, 'laranja': 525, 'pera': 217}\n",
      "{'maca': 430, 'bananas': 312, 'laranja': 525, 'pera': 217, 'melancia': 10}\n"
     ]
    }
   ],
   "source": [
    "print(inventario)\n",
    "print(mercado)\n",
    "print(quitanda)"
   ]
  },
  {
   "cell_type": "code",
   "execution_count": 79,
   "metadata": {},
   "outputs": [],
   "source": [
    "#Alterando o nome de chaves de dicionário\n",
    "\n",
    "dicionario = {'UM':1,'DOIS':2,'TRES':3,'FOUR':4}"
   ]
  },
  {
   "cell_type": "code",
   "execution_count": 80,
   "metadata": {},
   "outputs": [
    {
     "name": "stdout",
     "output_type": "stream",
     "text": [
      "{'UM': 1, 'DOIS': 2, 'TRES': 3, 'FOUR': 4}\n"
     ]
    }
   ],
   "source": [
    "print(dicionario)"
   ]
  },
  {
   "cell_type": "code",
   "execution_count": 81,
   "metadata": {},
   "outputs": [],
   "source": [
    "#aqui utilizo o POP, que retira o elemento e retorna ele próprio\n",
    "\n",
    "dicionario['QUATRO'] = dicionario.pop('FOUR')"
   ]
  },
  {
   "cell_type": "code",
   "execution_count": 82,
   "metadata": {},
   "outputs": [
    {
     "data": {
      "text/plain": [
       "{'DOIS': 2, 'QUATRO': 4, 'TRES': 3, 'UM': 1}"
      ]
     },
     "execution_count": 82,
     "metadata": {},
     "output_type": "execute_result"
    }
   ],
   "source": [
    "dicionario"
   ]
  },
  {
   "cell_type": "code",
   "execution_count": 83,
   "metadata": {},
   "outputs": [
    {
     "data": {
      "text/plain": [
       "dict"
      ]
     },
     "execution_count": 83,
     "metadata": {},
     "output_type": "execute_result"
    }
   ],
   "source": [
    "type(dicionario)"
   ]
  },
  {
   "cell_type": "code",
   "execution_count": null,
   "metadata": {},
   "outputs": [],
   "source": []
  }
 ],
 "metadata": {
  "kernelspec": {
   "display_name": "Python 3",
   "language": "python",
   "name": "python3"
  },
  "language_info": {
   "codemirror_mode": {
    "name": "ipython",
    "version": 3
   },
   "file_extension": ".py",
   "mimetype": "text/x-python",
   "name": "python",
   "nbconvert_exporter": "python",
   "pygments_lexer": "ipython3",
   "version": "3.6.4"
  }
 },
 "nbformat": 4,
 "nbformat_minor": 2
}
