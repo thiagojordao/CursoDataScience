{
 "cells": [
  {
   "cell_type": "code",
   "execution_count": null,
   "metadata": {},
   "outputs": [],
   "source": [
    "# Exercício\n",
    "\n",
    "Na expressão abaixo:\n",
    "    \n",
    "Dados de acesso do cliente Universidade dos Dados\n",
    "01/02/2017 \"3.878.00\"\n",
    "02/02/2017 \"6.088.00\"\n",
    "03/02/2017 \"645.00\"\n",
    "04/02/2017 \"10.876.00\"\n",
    "\n",
    "Necessitamos do primeiro valor de acessos 3.878\n",
    "armazene o valor em uma variável e imprima"
   ]
  },
  {
   "cell_type": "code",
   "execution_count": 11,
   "metadata": {},
   "outputs": [
    {
     "name": "stdout",
     "output_type": "stream",
     "text": [
      "Dados de acesso do cliente Universidade dos Dados\n",
      "01/02/2017 \"3345.878.00\"\n",
      "02/02/2017 \"6.088.00\"\n",
      "03/02/2017 \"645.00\"\n",
      "04/02/2017 \"10.876.00\"\n"
     ]
    }
   ],
   "source": [
    "expr = '''Dados de acesso do cliente Universidade dos Dados\n",
    "01/02/2017 \"3345.878.00\"\n",
    "02/02/2017 \"6.088.00\"\n",
    "03/02/2017 \"645.00\"\n",
    "04/02/2017 \"10.876.00\"'''\n",
    "\n",
    "print(expr)"
   ]
  },
  {
   "cell_type": "code",
   "execution_count": 22,
   "metadata": {},
   "outputs": [
    {
     "name": "stdout",
     "output_type": "stream",
     "text": [
      "3345.878\n"
     ]
    }
   ],
   "source": [
    "#Utilizando indexadores e find\n",
    "\n",
    "pri = expr.find('\"')+1\n",
    "ult = expr.find('\"',pri)-3\n",
    "\n",
    "#print(pri)\n",
    "#print(ult)\n",
    "\n",
    "result = expr[pri:ult]\n",
    "\n",
    "print(result)"
   ]
  },
  {
   "cell_type": "code",
   "execution_count": null,
   "metadata": {},
   "outputs": [],
   "source": []
  }
 ],
 "metadata": {
  "kernelspec": {
   "display_name": "Python 3",
   "language": "python",
   "name": "python3"
  },
  "language_info": {
   "codemirror_mode": {
    "name": "ipython",
    "version": 3
   },
   "file_extension": ".py",
   "mimetype": "text/x-python",
   "name": "python",
   "nbconvert_exporter": "python",
   "pygments_lexer": "ipython3",
   "version": "3.6.4"
  }
 },
 "nbformat": 4,
 "nbformat_minor": 2
}
