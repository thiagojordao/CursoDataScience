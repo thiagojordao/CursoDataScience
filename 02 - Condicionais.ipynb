{
 "cells": [
  {
   "cell_type": "code",
   "execution_count": 3,
   "metadata": {},
   "outputs": [
    {
     "name": "stdout",
     "output_type": "stream",
     "text": [
      "Dentro do if\n",
      "Fora do if\n"
     ]
    }
   ],
   "source": [
    "a = \"Dentro do if\"\n",
    "b = \"Fora do if\"\n",
    "if (2==2):\n",
    "    print(a)\n",
    "else:\n",
    "    print(b)\n",
    "    \n",
    "if (2==3):\n",
    "    print(a)\n",
    "else:\n",
    "    print(b)"
   ]
  },
  {
   "cell_type": "code",
   "execution_count": 9,
   "metadata": {},
   "outputs": [
    {
     "name": "stdout",
     "output_type": "stream",
     "text": [
      "Menor que 50\n"
     ]
    }
   ],
   "source": [
    "num = 43\n",
    "if num > 40:\n",
    "    if num <= 50:\n",
    "        print(\"Menor que 50\")\n",
    "    else:\n",
    "        print(\"Maior que 50\")\n",
    "else:\n",
    "    if num <= 40:\n",
    "        if num >= 10:\n",
    "            print(\"Menor que 40 e maior que 10\")\n",
    "        else:\n",
    "            print(\"Menor que 10\")"
   ]
  },
  {
   "cell_type": "code",
   "execution_count": 10,
   "metadata": {},
   "outputs": [
    {
     "name": "stdout",
     "output_type": "stream",
     "text": [
      "Maior que 50\n",
      "Célula finalizada maior que 50\n"
     ]
    }
   ],
   "source": [
    "expr = 100\n",
    "if expr > 50:\n",
    "    print(\"Maior que 50\")\n",
    "    print(\"Célula finalizada maior que 50\")\n",
    "else:\n",
    "    print(\"Menor ou igual a 50\")\n",
    "    printi(\"Célula finalizada menou ou igual a 50\")"
   ]
  },
  {
   "cell_type": "code",
   "execution_count": 11,
   "metadata": {},
   "outputs": [
    {
     "name": "stdout",
     "output_type": "stream",
     "text": [
      "Opção 3\n"
     ]
    }
   ],
   "source": [
    "if 2 > 3:\n",
    "    print(\"Opção 1\")\n",
    "if 2 == 3:\n",
    "    print(\"Opção 2\")\n",
    "if 2 < 3:\n",
    "    print(\"Opção 3\")"
   ]
  },
  {
   "cell_type": "code",
   "execution_count": 23,
   "metadata": {},
   "outputs": [
    {
     "name": "stdout",
     "output_type": "stream",
     "text": [
      "Par\n"
     ]
    }
   ],
   "source": [
    "#Lógica errada de propósito\n",
    "a=7\n",
    "if True:\n",
    "    b = a%2\n",
    "    b==0\n",
    "    print(\"Par\")\n",
    "else:\n",
    "    print(\"Impar\")"
   ]
  },
  {
   "cell_type": "code",
   "execution_count": 24,
   "metadata": {},
   "outputs": [
    {
     "name": "stdout",
     "output_type": "stream",
     "text": [
      "Ímpar\n"
     ]
    }
   ],
   "source": [
    "#Célula acima corrigida\n",
    "a = 3\n",
    "b = a%2\n",
    "\n",
    "if b==0:\n",
    "    print(\"Par\")\n",
    "else:\n",
    "    print(\"Ímpar\")"
   ]
  },
  {
   "cell_type": "markdown",
   "metadata": {},
   "source": []
  }
 ],
 "metadata": {
  "kernelspec": {
   "display_name": "Python 3",
   "language": "python",
   "name": "python3"
  },
  "language_info": {
   "codemirror_mode": {
    "name": "ipython",
    "version": 3
   },
   "file_extension": ".py",
   "mimetype": "text/x-python",
   "name": "python",
   "nbconvert_exporter": "python",
   "pygments_lexer": "ipython3",
   "version": "3.6.4"
  }
 },
 "nbformat": 4,
 "nbformat_minor": 2
}
