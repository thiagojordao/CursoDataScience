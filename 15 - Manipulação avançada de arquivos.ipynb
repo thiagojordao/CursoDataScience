{
 "cells": [
  {
   "cell_type": "code",
   "execution_count": 1,
   "metadata": {},
   "outputs": [],
   "source": [
    "#Crie um diretório no c:/raw"
   ]
  },
  {
   "cell_type": "code",
   "execution_count": 2,
   "metadata": {},
   "outputs": [],
   "source": [
    "#isso irá criar um arquivo. Quando um arquivo não existe, o parametro W cria um\n",
    "\n",
    "arquivo = open('c:\\\\raw\\\\teste.txt','w')"
   ]
  },
  {
   "cell_type": "code",
   "execution_count": 3,
   "metadata": {},
   "outputs": [],
   "source": [
    "#Tente deletar o arquivo.\n",
    "#O arquivo nãoo é apagado pois o Python está em poder do arquivo"
   ]
  },
  {
   "cell_type": "code",
   "execution_count": 4,
   "metadata": {},
   "outputs": [],
   "source": [
    "#Após executar o comando abaixo, apague o arquivo\n",
    "\n",
    "arquivo.close()"
   ]
  },
  {
   "cell_type": "code",
   "execution_count": 5,
   "metadata": {},
   "outputs": [],
   "source": [
    "#Crie novamente o arquivo\n",
    "\n",
    "arquivo = open('c:\\\\raw\\\\teste.txt','w')"
   ]
  },
  {
   "cell_type": "code",
   "execution_count": 6,
   "metadata": {},
   "outputs": [
    {
     "data": {
      "text/plain": [
       "27"
      ]
     },
     "execution_count": 6,
     "metadata": {},
     "output_type": "execute_result"
    }
   ],
   "source": [
    "#Escreva algo no arquivo\n",
    "\n",
    "arquivo.write('Curso Data Science de A a Z')"
   ]
  },
  {
   "cell_type": "code",
   "execution_count": 7,
   "metadata": {},
   "outputs": [],
   "source": [
    "#Feche o arquivo e verifique o conteúdo escrito\n",
    "\n",
    "arquivo.close()"
   ]
  },
  {
   "cell_type": "code",
   "execution_count": 8,
   "metadata": {},
   "outputs": [
    {
     "data": {
      "text/plain": [
       "'Curso Data Science de A a Z'"
      ]
     },
     "execution_count": 8,
     "metadata": {},
     "output_type": "execute_result"
    }
   ],
   "source": [
    "#Podemos abrir o arquivo em modo leitura e armazenar o conteúdo em uma variável\n",
    "\n",
    "arquivo = open('c:\\\\raw\\\\teste.txt','r')\n",
    "\n",
    "conteudo = arquivo.read()\n",
    "\n",
    "conteudo"
   ]
  },
  {
   "cell_type": "code",
   "execution_count": 10,
   "metadata": {},
   "outputs": [],
   "source": [
    "#Precisamos fechar o arquivo\n",
    "\n",
    "arquivo.close()"
   ]
  },
  {
   "cell_type": "code",
   "execution_count": 11,
   "metadata": {},
   "outputs": [],
   "source": [
    "#Vamos escrever uma nova linha\n",
    "\n",
    "arquivo = open('c:\\\\raw\\\\teste.txt','w')\n",
    "arquivo.write('2a linha Curso Data Science de A a Z')\n",
    "arquivo.close()"
   ]
  },
  {
   "cell_type": "code",
   "execution_count": 12,
   "metadata": {},
   "outputs": [],
   "source": [
    "#Ao abrir o arquivo, vemos que a linha foi sobrescrita\n",
    "#Como escrever uma nova linha então?\n",
    "#Com o modo A de Append\n",
    "\n",
    "arquivo = open('c:\\\\raw\\\\teste.txt','a')\n",
    "arquivo.write('\\n3a linha Curso Data Science de A a Z... a primeira sumiu')\n",
    "arquivo.close()"
   ]
  },
  {
   "cell_type": "markdown",
   "metadata": {},
   "source": [
    "# O que aprendemos:\n",
    "\n",
    "    1- Abrir o arquivo\n",
    "    2- Ler ou Escrever\n",
    "    3- Fechar o arquivo\n",
    "\n",
    "### Devemos indicar o caminho do arquivo caso contrario, ele será criado em nosso diretório de trabalho"
   ]
  },
  {
   "cell_type": "code",
   "execution_count": 15,
   "metadata": {},
   "outputs": [],
   "source": [
    "#Podemos simplificar\n",
    "\n",
    "with open('c:\\\\raw\\\\teste.txt','a') as arq:\n",
    "    arq.write('\\nUtilizando WITH')"
   ]
  },
  {
   "cell_type": "code",
   "execution_count": null,
   "metadata": {},
   "outputs": [],
   "source": []
  }
 ],
 "metadata": {
  "kernelspec": {
   "display_name": "Python 3",
   "language": "python",
   "name": "python3"
  },
  "language_info": {
   "codemirror_mode": {
    "name": "ipython",
    "version": 3
   },
   "file_extension": ".py",
   "mimetype": "text/x-python",
   "name": "python",
   "nbconvert_exporter": "python",
   "pygments_lexer": "ipython3",
   "version": "3.6.4"
  }
 },
 "nbformat": 4,
 "nbformat_minor": 2
}
